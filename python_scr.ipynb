{
 "cells": [
  {
   "cell_type": "code",
   "execution_count": 1,
   "metadata": {},
   "outputs": [],
   "source": [
    "from docx import Document"
   ]
  },
  {
   "cell_type": "code",
   "execution_count": 5,
   "metadata": {},
   "outputs": [
    {
     "name": "stdout",
     "output_type": "stream",
     "text": [
      "Document updated and saved as: updated_document.docx\n"
     ]
    }
   ],
   "source": [
    "from docx import Document\n",
    "\n",
    "# Load the DOCX file\n",
    "doc_path = \"file.docx\"\n",
    "doc = Document(doc_path)\n",
    "\n",
    "# Function to replace text in paragraphs\n",
    "def replace_text(paragraphs, old_text, new_text):\n",
    "    for para in paragraphs:\n",
    "        if old_text in para.text:\n",
    "            para.text = para.text.replace(old_text, new_text)\n",
    "\n",
    "# Update the specific sentence\n",
    "replace_text(doc.paragraphs, \"month of April  2024 – Precision commenced services on April  1st 2024\", \"month of May  2024 – Precision commenced services on May  1st 2024\")\n",
    "# replace_text(doc.paragraphs, \"April  30th  2024\", \"May  30th  2024\")\n",
    "\n",
    "# Update Key Deliverables table\n",
    "for table in doc.tables:\n",
    "    for row in table.rows:\n",
    "        for cell in row.cells:\n",
    "            if \"April  1st 2024 thru\" in cell.text:\n",
    "                cell.text = cell.text.replace(\"April  1st 2024 thru April 30th   2024 18  (PAS) + 18 (Backup) = 36 Hours\", \"May 2nd 2024 thru May 30th   2024 19  (PAS) + 19 (Backup) = 36 Hours\")\n",
    "                cell.text = cell.text.replace(\"18  (PAS) + 18 (Backup)=\", \"18  (PAS) + 18 (Backup)=\")\n",
    "\n",
    "# Update Deliverable - PAS Services in Washington DC column\n",
    "replace_text(doc.paragraphs, \"PAS Hours = 18\\nPAS Backup Hours = 18\\nTotal Hours= 36\", \"PAS Hours = 20\\nPAS Backup Hours = 20\\nTotal Hours= 36\")\n",
    "\n",
    "# Update Contractor’s Key Personnel table\n",
    "key_personnel_updates = {\n",
    "    \"18\": \"20\",\n",
    "    \"32\": \"40\"\n",
    "}\n",
    "for table in doc.tables:\n",
    "    for row in table.rows:\n",
    "        for cell in row.cells:\n",
    "            if cell.text.strip() in key_personnel_updates:\n",
    "                cell.text = key_personnel_updates[cell.text.strip()]\n",
    "\n",
    "# Save the updated document\n",
    "updated_doc_path = \"updated_document.docx\"\n",
    "doc.save(updated_doc_path)\n",
    "print(\"Document updated and saved as:\", updated_doc_path)\n"
   ]
  },
  {
   "cell_type": "code",
   "execution_count": 10,
   "metadata": {},
   "outputs": [
    {
     "name": "stdout",
     "output_type": "stream",
     "text": [
      "Document updated and saved as: updated_document.docx\n"
     ]
    }
   ],
   "source": [
    "# pip install python-docx\n",
    "from docx import Document\n",
    "\n",
    "# Load the DOCX file\n",
    "doc_path = \"file.docx\"\n",
    "doc = Document(doc_path)\n",
    "\n",
    "# Function to replace text in paragraphs\n",
    "def replace_text(paragraphs, old_text, new_text):\n",
    "    for para in paragraphs:\n",
    "        if old_text in para.text:\n",
    "            para.text = para.text.replace(old_text, new_text)\n",
    "\n",
    "# Update the specific sentence\n",
    "replace_text(doc.paragraphs, \"month of April  2024 – Precision commenced services on April  1st 2024.\", \"month of May  2024 – Precision commenced services on May  1st 2024.\")\n",
    "\n",
    "# Update Key Deliverables table\n",
    "for table in doc.tables:\n",
    "    for row in table.rows:\n",
    "        for cell in row.cells:\n",
    "            # Update the Date Range column\n",
    "            if \"April 1st 2024 thru\" in cell.text:\n",
    "                cell.text = \"May 1st 2024 thru May 30th 2024\"\n",
    "            # Update the PAS Services description\n",
    "            if \"PAS Hours = 18\" in cell.text:\n",
    "                cell.text = \"PAS Hours = 20\\nPAS Backup Hours = 20\\nTotal Hours= 36\\n*Backup = first 2 Hours per shift (9 shifts)\"\n",
    "            if \"18  (PAS) + 18 (Backup) =\" in cell.text:\n",
    "                cell.text = \"18  (PAS) + 18 (Backup) = 36 Hours\"  # This needs to be updat\n",
    "\n",
    "# Update Contractor’s Key Personnel table in LOE/Hours column\n",
    "for table in doc.tables:\n",
    "    for row in table.rows:\n",
    "        cells = row.cells\n",
    "        for idx, cell in enumerate(cells):\n",
    "            if cell.text.strip() in [\"18\", \"32\"]:\n",
    "                new_values = {\"18\": \"20\", \"32\": \"40\"}\n",
    "                cell.text = new_values.get(cell.text.strip(), cell.text)\n",
    "\n",
    "# Save the updated document\n",
    "updated_doc_path = \"updated_document.docx\"\n",
    "doc.save(updated_doc_path)\n",
    "print(\"Document updated and saved as:\", updated_doc_path)\n"
   ]
  },
  {
   "cell_type": "code",
   "execution_count": 7,
   "metadata": {},
   "outputs": [
    {
     "name": "stdout",
     "output_type": "stream",
     "text": [
      "Document updated and saved as: updated_document.docx\n"
     ]
    }
   ],
   "source": [
    "from docx import Document\n",
    "\n",
    "# Load the DOCX file\n",
    "doc_path = \"file.docx\"\n",
    "doc = Document(doc_path)\n",
    "\n",
    "# Update Key Deliverables table\n",
    "for table in doc.tables:\n",
    "    for row in table.rows:\n",
    "        for cell in row.cells:\n",
    "            # Update the Date Range column\n",
    "            if \"April 1st 2024 thru\" in cell.text:\n",
    "                cell.text = \"May 1st 2024 thru May 30th 2024\"\n",
    "            # Update the PAS Services description\n",
    "            if \"PAS Hours = 18\" in cell.text:\n",
    "                cell.text = \"PAS Hours = 20\\nPAS Backup Hours = 20\\nTotal Hours= 36\\n*Backup = first 2 Hours per shift (9 shifts)\"\n",
    "            if \"18  (PAS) + 18 (Backup) =\" in cell.text:\n",
    "                cell.text = \"18  (PAS) + 18 (Backup) = 36 Hours\"  # This needs to be updated according to your needs\n",
    "\n",
    "# Save the updated document\n",
    "updated_doc_path = \"updated_document.docx\"\n",
    "doc.save(updated_doc_path)\n",
    "print(\"Document updated and saved as:\", updated_doc_path)\n"
   ]
  }
 ],
 "metadata": {
  "kernelspec": {
   "display_name": "base",
   "language": "python",
   "name": "python3"
  },
  "language_info": {
   "codemirror_mode": {
    "name": "ipython",
    "version": 3
   },
   "file_extension": ".py",
   "mimetype": "text/x-python",
   "name": "python",
   "nbconvert_exporter": "python",
   "pygments_lexer": "ipython3",
   "version": "3.12.2"
  }
 },
 "nbformat": 4,
 "nbformat_minor": 2
}
